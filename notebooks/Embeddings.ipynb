{
 "cells": [
  {
   "cell_type": "code",
   "execution_count": 1,
   "metadata": {},
   "outputs": [
    {
     "name": "stderr",
     "output_type": "stream",
     "text": [
      "Some weights of RobertaForMaskedLM were not initialized from the model checkpoint at ../artifacts/ and are newly initialized: ['roberta.pooler.dense.weight', 'roberta.pooler.dense.bias']\n",
      "You should probably TRAIN this model on a down-stream task to be able to use it for predictions and inference.\n"
     ]
    }
   ],
   "source": [
    "import sys\n",
    "from pathlib import Path\n",
    "sys.path.append(str(Path(sys.path[0]).parent))\n",
    "from src.ingredient_tokenizer import load_tokenizer, get_tokenizer_vocab\n",
    "from transformers import pipeline\n",
    "\n",
    "tokenizer = load_tokenizer('../artifacts')\n",
    "\n",
    "fill_mask = pipeline(\"fill-mask\", \n",
    "                     model='../artifacts/', \n",
    "                     tokenizer=tokenizer,\n",
    "                     topk=5)\n",
    "model = fill_mask.model"
   ]
  },
  {
   "cell_type": "code",
   "execution_count": 2,
   "metadata": {},
   "outputs": [
    {
     "data": {
      "text/plain": [
       "[{'sequence': '<s> dough pizza_sauce mozzarella_cheese </s>',\n",
       "  'score': 0.23033706843852997,\n",
       "  'token': 156,\n",
       "  'token_str': 'mozzarella_cheese'},\n",
       " {'sequence': '<s> dough pizza_sauce pepperoni </s>',\n",
       "  'score': 0.20622113347053528,\n",
       "  'token': 733,\n",
       "  'token_str': 'pepperoni'},\n",
       " {'sequence': '<s> dough pizza_sauce olive_oil </s>',\n",
       "  'score': 0.0663054808974266,\n",
       "  'token': 12,\n",
       "  'token_str': 'olive_oil'},\n",
       " {'sequence': '<s> dough pizza_sauce cheese </s>',\n",
       "  'score': 0.06030401214957237,\n",
       "  'token': 21,\n",
       "  'token_str': 'cheese'},\n",
       " {'sequence': '<s> dough pizza_sauce parmesan </s>',\n",
       "  'score': 0.03762682154774666,\n",
       "  'token': 49,\n",
       "  'token_str': 'parmesan'}]"
      ]
     },
     "execution_count": 2,
     "metadata": {},
     "output_type": "execute_result"
    }
   ],
   "source": [
    "fill_mask('dough pizza_sauce <mask>')"
   ]
  },
  {
   "cell_type": "code",
   "execution_count": 3,
   "metadata": {},
   "outputs": [
    {
     "data": {
      "text/plain": [
       "tensor([[  0, 431, 856,   4,   2]])"
      ]
     },
     "execution_count": 3,
     "metadata": {},
     "output_type": "execute_result"
    }
   ],
   "source": [
    "tokenized_input = tokenizer('dough pizza_sauce <mask>', return_tensors='pt')['input_ids']\n",
    "tokenized_input"
   ]
  },
  {
   "cell_type": "code",
   "execution_count": 4,
   "metadata": {},
   "outputs": [
    {
     "data": {
      "text/plain": [
       "(tensor([[[ 20.7888,  -5.7311,  -2.3179,  ...,  -1.1549,   1.2096,  -0.6517],\n",
       "          [ -3.5585, -10.7750,  -3.0984,  ...,  -2.4188,  -3.7403,  -3.7300],\n",
       "          [ -4.2900, -10.2704,  -1.8199,  ...,  -1.9546,  -2.8219,  -1.6147],\n",
       "          [ -3.2282, -12.2347,  -5.2322,  ...,  -2.8265,  -3.5606,  -4.4717],\n",
       "          [ -3.3837,  -7.7216,  17.7582,  ...,  -4.7777,  -3.7840,  -2.4419]]],\n",
       "        grad_fn=<AddBackward0>),)"
      ]
     },
     "execution_count": 4,
     "metadata": {},
     "output_type": "execute_result"
    }
   ],
   "source": [
    "model(tokenized_input)"
   ]
  },
  {
   "cell_type": "code",
   "execution_count": 5,
   "metadata": {},
   "outputs": [
    {
     "data": {
      "text/plain": [
       "tensor([[[ 20.7888,  -5.7311,  -2.3179,  ...,  -1.1549,   1.2096,  -0.6517],\n",
       "         [ -3.5585, -10.7750,  -3.0984,  ...,  -2.4188,  -3.7403,  -3.7300],\n",
       "         [ -4.2900, -10.2704,  -1.8199,  ...,  -1.9546,  -2.8219,  -1.6147],\n",
       "         [ -3.2282, -12.2347,  -5.2322,  ...,  -2.8265,  -3.5606,  -4.4717],\n",
       "         [ -3.3837,  -7.7216,  17.7582,  ...,  -4.7777,  -3.7840,  -2.4419]]],\n",
       "       grad_fn=<AddBackward0>)"
      ]
     },
     "execution_count": 5,
     "metadata": {},
     "output_type": "execute_result"
    }
   ],
   "source": [
    "x = tokenized_input\n",
    "x = model.roberta.embeddings(x)\n",
    "x = model.roberta.encoder(x)\n",
    "x = model.lm_head(x[0])\n",
    "x"
   ]
  },
  {
   "cell_type": "code",
   "execution_count": 6,
   "metadata": {},
   "outputs": [],
   "source": [
    "from torchvision.models import "
   ]
  },
  {
   "cell_type": "code",
   "execution_count": 8,
   "metadata": {},
   "outputs": [],
   "source": [
    "m = resnet18(False)"
   ]
  },
  {
   "cell_type": "code",
   "execution_count": 20,
   "metadata": {},
   "outputs": [
    {
     "data": {
      "text/plain": [
       "11689512"
      ]
     },
     "execution_count": 20,
     "metadata": {},
     "output_type": "execute_result"
    }
   ],
   "source": [
    "sum([p.numel() for p in list(m.parameters())])"
   ]
  },
  {
   "cell_type": "markdown",
   "metadata": {},
   "source": [
    "# Embeddings"
   ]
  },
  {
   "cell_type": "code",
   "execution_count": 21,
   "metadata": {},
   "outputs": [],
   "source": [
    "embeddings = model.roberta.embeddings.word_embeddings.weight.detach().numpy()"
   ]
  },
  {
   "cell_type": "code",
   "execution_count": 22,
   "metadata": {},
   "outputs": [],
   "source": [
    "ingredients = get_tokenizer_vocab(tokenizer)"
   ]
  },
  {
   "cell_type": "code",
   "execution_count": 23,
   "metadata": {},
   "outputs": [],
   "source": [
    "from gensim.models import KeyedVectors"
   ]
  },
  {
   "cell_type": "code",
   "execution_count": 24,
   "metadata": {},
   "outputs": [
    {
     "data": {
      "text/plain": [
       "(3505, 3505)"
      ]
     },
     "execution_count": 24,
     "metadata": {},
     "output_type": "execute_result"
    }
   ],
   "source": [
    "len(embeddings), len(ingredients)"
   ]
  },
  {
   "cell_type": "code",
   "execution_count": 25,
   "metadata": {},
   "outputs": [],
   "source": [
    "embeddings_model = KeyedVectors(768)\n",
    "embeddings_model.add(ingredients, embeddings)"
   ]
  },
  {
   "cell_type": "code",
   "execution_count": 26,
   "metadata": {},
   "outputs": [
    {
     "data": {
      "text/plain": [
       "array([ 4.19010781e-02, -1.44569215e-03,  1.52035421e-02, -1.22054724e-03,\n",
       "       -2.36960258e-02, -4.02079755e-03, -4.23919484e-02, -7.11792056e-03,\n",
       "        1.79526806e-02, -1.98006183e-02,  2.64843311e-02,  3.48729342e-02,\n",
       "       -5.82780130e-03, -2.05886662e-02,  5.71692083e-03, -5.18989004e-02,\n",
       "       -1.06926113e-02,  2.67722271e-02, -4.05197740e-02,  4.16247454e-03,\n",
       "        8.59029740e-02, -2.03046333e-02,  1.31649422e-02, -1.91716589e-02,\n",
       "       -2.67268885e-02, -3.41102332e-02,  6.17067367e-02,  2.69439421e-03,\n",
       "       -7.66160060e-03,  2.23249942e-02, -3.77335064e-02, -1.90900303e-02,\n",
       "       -9.87960026e-03,  4.58221249e-02, -7.50269787e-03, -1.04591455e-02,\n",
       "       -4.56144363e-02,  4.27748822e-02,  1.64360926e-02, -9.18315817e-03,\n",
       "       -1.25347491e-04,  2.31818464e-02, -1.83910280e-02, -2.19459515e-02,\n",
       "        2.19262508e-03,  2.09313035e-02, -1.63532756e-02,  3.58854309e-02,\n",
       "       -4.34484929e-02,  2.44188420e-02, -3.10478471e-02, -8.87274568e-04,\n",
       "       -8.07295553e-03, -8.84099677e-03, -3.74909751e-02,  1.95328612e-02,\n",
       "        1.06941927e-02,  2.83099189e-02,  1.05713238e-03, -1.61719471e-02,\n",
       "       -3.05938930e-03,  1.60484519e-02,  9.15957894e-03, -1.24930171e-02,\n",
       "       -1.45499548e-02,  2.50529815e-02,  2.42994763e-02,  1.89331863e-02,\n",
       "        3.88351493e-02, -3.10544316e-02, -1.85166742e-03,  3.18831168e-02,\n",
       "        3.04862652e-02, -6.82412535e-02, -3.88915762e-02, -3.04454472e-03,\n",
       "        2.57827062e-03,  3.90336961e-02, -4.58302759e-02,  2.09319480e-02,\n",
       "        4.85213660e-02, -5.99805405e-03,  3.75759676e-02,  1.77099910e-02,\n",
       "        3.53073664e-02, -5.26217446e-02,  6.10906770e-03,  9.69429091e-02,\n",
       "       -6.60567312e-03,  2.50592064e-02,  2.64209788e-02, -2.04196759e-02,\n",
       "        5.99148013e-02, -9.36731696e-04,  7.59515120e-03, -2.25466024e-02,\n",
       "       -3.48086245e-02,  8.79144296e-03, -4.75765876e-02, -1.95257533e-02,\n",
       "       -2.68349741e-02,  7.36982003e-02, -5.06970622e-02,  2.46110652e-02,\n",
       "       -4.85416278e-02, -2.15543881e-02, -6.71411632e-03, -3.48543152e-02,\n",
       "       -1.73456557e-02, -4.24172580e-02, -6.20615259e-02, -1.38454791e-02,\n",
       "        6.39744941e-03, -6.60469104e-03, -1.62777547e-02, -8.27399045e-02,\n",
       "       -4.72058579e-02, -4.41964641e-02, -1.82455387e-02, -5.32589220e-02,\n",
       "        8.64546932e-03, -1.29157736e-03,  2.16162093e-02, -1.87756382e-02,\n",
       "       -2.46317461e-02, -6.60816953e-03,  6.44320063e-03,  2.08244883e-02,\n",
       "       -1.10545373e-02,  2.11865064e-02,  2.05324776e-02, -1.01920106e-02,\n",
       "       -8.47631227e-03,  1.79384835e-03,  3.56822200e-02, -1.37175117e-02,\n",
       "        6.61611790e-03, -7.16153830e-02,  7.46586323e-02, -4.94303880e-03,\n",
       "       -3.73702608e-02, -7.01741353e-02, -7.08442479e-02,  3.70239280e-02,\n",
       "       -2.79424507e-02, -1.79487299e-02,  2.68745422e-03, -4.65978682e-02,\n",
       "       -9.28469293e-04,  6.81791157e-02,  2.83769909e-02,  1.22918133e-02,\n",
       "        1.67243313e-02, -2.33213883e-02, -2.68502943e-02, -1.07058818e-02,\n",
       "       -1.48488758e-02, -1.65597759e-02,  1.97872669e-02, -2.89567802e-02,\n",
       "       -1.48205180e-02,  4.58239950e-02, -1.51567943e-02,  3.20676006e-02,\n",
       "        4.61946800e-02,  2.31882371e-02,  1.91500951e-02,  1.67069193e-02,\n",
       "       -3.52513008e-02, -8.92680213e-02,  3.87093574e-02, -9.12767649e-03,\n",
       "       -2.05626301e-02, -6.54332191e-02,  2.66315192e-02, -1.06383869e-02,\n",
       "        3.24298106e-02, -2.68007088e-02, -2.06424035e-02,  2.01218855e-02,\n",
       "        2.49102004e-02, -1.00718196e-02, -2.37647276e-02,  2.48376094e-02,\n",
       "       -2.55340207e-02, -9.35630221e-03,  3.36068682e-02, -4.13762555e-02,\n",
       "       -2.47683134e-02,  5.66004142e-02,  2.33327765e-02, -1.77161992e-02,\n",
       "        3.96655165e-02, -5.26817329e-02, -9.45381634e-03,  6.26829341e-02,\n",
       "        1.26364389e-02, -1.12463450e-02, -3.32478969e-03,  3.96785699e-03,\n",
       "       -1.98412463e-02, -1.96486432e-02, -3.48795429e-02,  3.34700458e-02,\n",
       "       -2.02661902e-02, -2.68596187e-02, -2.17590127e-02, -4.17778641e-02,\n",
       "       -1.43089211e-02,  5.88916093e-02,  1.20311491e-02, -1.45945419e-02,\n",
       "        3.45346075e-03, -2.18711365e-02,  1.28645469e-02,  6.61486480e-03,\n",
       "        6.11933395e-02,  7.95165524e-02,  8.20608623e-03,  4.42218818e-02,\n",
       "       -1.91217214e-02, -1.68379582e-02, -2.14288407e-03, -5.43364808e-02,\n",
       "       -4.90177982e-03, -5.53423762e-02, -5.79043701e-02, -2.93324757e-02,\n",
       "       -1.57573428e-02, -4.15738188e-02,  2.21354850e-02,  2.31325272e-02,\n",
       "       -5.29832132e-02, -3.30407098e-02, -1.51999407e-02,  1.44094964e-02,\n",
       "       -2.80331802e-02,  9.20710247e-03,  4.22106311e-02,  1.09503139e-02,\n",
       "        5.44555262e-02, -3.07457596e-02,  1.30057326e-02, -5.70314191e-02,\n",
       "        6.89185830e-03, -3.56418118e-02, -5.40710576e-02, -2.69686505e-02,\n",
       "        1.91806741e-02, -3.72986160e-02, -3.54292169e-02,  2.29036016e-03,\n",
       "       -3.24068405e-02, -3.08803637e-02, -1.89290394e-03, -2.40771309e-03,\n",
       "       -3.27668563e-02,  3.70376334e-02, -4.56437208e-02, -8.70138220e-03,\n",
       "        9.62844212e-03,  7.21382024e-03, -7.74319889e-03,  2.09743641e-02,\n",
       "       -4.26514074e-02,  6.08887232e-04, -4.61863307e-03, -1.13003375e-02,\n",
       "       -1.55166117e-03,  4.17642854e-03, -1.04785087e-02,  2.96641868e-02,\n",
       "       -2.97323000e-02, -6.58996701e-02, -3.03010568e-02,  2.29309313e-02,\n",
       "        1.94274429e-02, -2.76296847e-02, -4.01469506e-02, -7.78563097e-02,\n",
       "        1.92311555e-02,  3.89886312e-02, -1.19704427e-02, -6.08221665e-02,\n",
       "        1.50601007e-02,  1.27953989e-02, -6.37050420e-02,  3.10607417e-03,\n",
       "        2.06765942e-02,  1.15677179e-03, -1.65515672e-02,  4.99835424e-02,\n",
       "       -5.47238719e-03,  2.75302771e-02,  2.97698081e-02,  8.54110867e-02,\n",
       "       -3.55787240e-02,  6.11050427e-03, -2.20658407e-02, -4.68480727e-03,\n",
       "        2.99163181e-02,  1.11429384e-02, -3.51073556e-02, -1.58743225e-02,\n",
       "        7.78123410e-03, -1.19364299e-02, -1.68068632e-02,  6.50024787e-02,\n",
       "        5.06709255e-02,  2.38677543e-02,  2.77262693e-03, -3.57890464e-02,\n",
       "        5.59392460e-02, -2.38932762e-02,  3.15993316e-02,  1.73769332e-02,\n",
       "       -3.39256935e-02, -5.52367698e-03,  2.45237835e-02, -6.06454574e-02,\n",
       "        1.82422821e-06,  4.38730270e-02,  3.08652595e-02,  1.53407734e-02,\n",
       "        1.03662983e-02, -5.51192351e-02, -3.85046601e-02,  2.86261942e-02,\n",
       "       -5.56065534e-05, -3.45302746e-02,  4.67103254e-03,  3.34026553e-02,\n",
       "       -3.92153896e-02,  1.56332683e-02,  8.02380557e-04, -1.22896349e-02,\n",
       "       -3.33056152e-02,  1.09542720e-02, -2.66885459e-02, -8.80322978e-03,\n",
       "       -3.55368666e-02, -2.32212674e-02, -1.06772333e-02,  2.51756934e-03,\n",
       "        3.68526466e-02, -3.00769992e-02,  5.93033014e-03, -3.72615568e-02,\n",
       "       -3.40623669e-02, -7.96291009e-02, -5.09403720e-02, -3.91264334e-02,\n",
       "        4.32981215e-02,  2.16632318e-02, -4.68936935e-02,  6.08979631e-03,\n",
       "       -5.62267527e-02, -1.88968697e-04, -1.79164985e-03, -5.43197729e-02,\n",
       "       -6.52534887e-02, -4.18761745e-02, -7.40036070e-02, -4.00338657e-02,\n",
       "        2.38389056e-03,  4.21166793e-03,  1.52414339e-02, -3.18036117e-02,\n",
       "       -3.02165356e-02, -1.91658251e-02,  7.44938338e-03,  1.97845344e-02,\n",
       "        1.56111047e-02,  2.40754746e-02,  2.64831781e-02, -3.09591205e-03,\n",
       "        2.92395633e-02,  4.58178557e-02, -3.58791389e-02, -1.00275772e-02,\n",
       "       -1.86667789e-03, -5.17104715e-02,  3.48471076e-04,  3.22450399e-02,\n",
       "       -3.40605713e-02, -5.69900591e-03, -3.94465774e-02, -2.81568877e-02,\n",
       "       -3.78808752e-02, -3.14083658e-02, -5.63172810e-03, -2.68456601e-02,\n",
       "       -8.32421333e-03, -1.59569643e-02, -3.47287618e-02, -4.95176874e-02,\n",
       "        1.53238149e-02, -3.75305638e-02, -1.45679265e-02,  6.40425831e-02,\n",
       "       -4.06218097e-02, -3.31141166e-02, -6.43875897e-02, -6.60888897e-03,\n",
       "       -2.69719027e-02, -4.22744602e-02,  2.92033553e-02, -8.16931762e-03,\n",
       "       -7.46734440e-02, -2.12336462e-02, -4.26400192e-02,  1.98683716e-04,\n",
       "       -5.81433922e-02,  2.16057003e-02, -7.83689171e-02,  3.53257731e-02,\n",
       "        2.04712935e-02,  4.14096517e-03, -1.50531987e-02,  9.42659564e-03,\n",
       "       -1.14427060e-02, -1.37749873e-02, -6.25356212e-02, -1.81992427e-02,\n",
       "       -5.15761115e-02,  3.67149003e-02, -1.09828799e-03, -1.82280988e-02,\n",
       "        2.71215122e-02, -9.13463235e-02,  6.69310912e-02,  2.57540271e-02,\n",
       "        3.21684889e-02,  4.12715897e-02,  1.18476804e-02, -2.56679635e-02,\n",
       "       -1.26925576e-02, -7.76062086e-02, -5.80854807e-03, -2.20824685e-02,\n",
       "       -2.74760518e-02,  2.95825098e-02,  4.09269407e-02, -4.49271984e-02,\n",
       "        2.02671587e-02, -3.47816409e-03,  2.00731102e-02, -1.11094955e-02,\n",
       "        1.84045173e-02, -1.95661560e-02, -1.20623976e-01, -9.52033140e-03,\n",
       "       -4.98715825e-02,  4.69224229e-02, -2.78241057e-02,  2.03811135e-02,\n",
       "       -2.97935661e-02,  3.42582772e-03, -6.28042668e-02, -6.25349879e-02,\n",
       "        8.65023807e-02, -1.81565564e-02,  3.14348489e-02, -3.15560549e-02,\n",
       "       -1.77787221e-03, -1.99235906e-03, -3.41120064e-02,  3.94565761e-02,\n",
       "       -4.18677069e-02,  1.81525014e-02,  1.39971478e-02, -1.37010298e-03,\n",
       "        8.98161065e-03,  4.55984361e-02,  2.64628194e-02, -7.43309855e-02,\n",
       "        1.01454500e-02, -3.88608947e-02, -1.73778441e-02, -6.31371439e-02,\n",
       "       -7.68576469e-03,  5.15555032e-03,  5.05845025e-02, -1.98781695e-02,\n",
       "       -6.62164614e-02,  9.52200685e-03, -1.55759994e-02, -1.14563182e-02,\n",
       "       -1.27598019e-02,  2.25764327e-02, -5.35997078e-02,  2.26203888e-03,\n",
       "        4.69673201e-02,  5.60045429e-02, -1.22556528e-02,  2.75003612e-02,\n",
       "       -1.78044792e-02, -5.75047210e-02,  4.39940905e-03, -2.06118859e-02,\n",
       "       -5.78385666e-02, -1.85679812e-02,  2.47316509e-02,  3.18397172e-02,\n",
       "       -8.37886892e-03,  3.31419404e-03, -5.35987765e-02, -6.02550954e-02,\n",
       "        2.70406827e-02, -2.93523408e-02,  6.43403456e-03, -5.14781401e-02,\n",
       "        4.58711907e-02, -1.52268512e-02, -8.50107446e-02, -2.35676486e-03,\n",
       "       -5.59900478e-02, -1.70918237e-02, -4.40143719e-02, -1.09287333e-02,\n",
       "       -2.99315471e-02,  1.58177167e-02, -4.32584435e-02,  1.07485379e-04,\n",
       "       -1.52768474e-02,  4.32012826e-02, -4.53943983e-02, -3.58463190e-02,\n",
       "        2.10918020e-02, -3.38326022e-02, -5.82727715e-02,  2.67971959e-02,\n",
       "       -4.78166603e-02, -1.27629219e-02,  1.49246296e-02,  8.19394598e-04,\n",
       "       -1.12755662e-02, -9.21373349e-03, -2.89508570e-02,  6.21245243e-02,\n",
       "        5.17854001e-03, -2.95230672e-02, -4.19651866e-02, -7.12008849e-02,\n",
       "       -6.42946437e-02,  3.92443277e-02, -6.42724112e-02, -1.91367976e-03,\n",
       "        1.23988092e-02, -3.30793746e-02,  1.49038890e-02, -3.92061286e-02,\n",
       "       -2.31061243e-02, -4.21745256e-02, -1.07953148e-02, -2.55648233e-02,\n",
       "        1.06908809e-02,  1.45122651e-02,  5.06638736e-02, -3.74508575e-02,\n",
       "       -6.71980083e-02,  3.21022910e-03, -1.56196009e-03, -1.16325896e-02,\n",
       "        2.75142826e-02,  9.56549961e-03,  1.07426364e-02, -8.96848887e-02,\n",
       "       -3.89797315e-02, -1.41307041e-02, -2.93133054e-02, -4.32799868e-02,\n",
       "       -4.34837714e-02,  2.14264393e-02, -2.61703245e-02,  2.59670746e-02,\n",
       "        9.37094353e-03, -1.72292776e-02,  3.63409854e-02, -8.07179213e-02,\n",
       "       -3.91580500e-02,  4.59116697e-02, -1.04748579e-02, -5.87171055e-02,\n",
       "        1.74778644e-02, -3.35864574e-02,  1.41939642e-02,  3.97226959e-03,\n",
       "       -3.64474989e-02, -8.69017094e-03, -2.21381858e-02, -3.27919498e-02,\n",
       "       -3.14678326e-02,  1.46333091e-02, -1.36356205e-02, -4.28380221e-02,\n",
       "        1.54738827e-02, -7.10221613e-03,  8.88989866e-03, -4.82460894e-02,\n",
       "       -2.54192818e-02,  3.93627621e-02,  1.04985768e-02,  7.30378414e-03,\n",
       "       -5.21025769e-02,  3.58797722e-02, -1.19200535e-02,  2.57926788e-02,\n",
       "        4.17800583e-02, -6.24180818e-03,  6.33860081e-02, -3.47302631e-02,\n",
       "        2.82821618e-02, -7.90950435e-04,  1.51589504e-02,  2.39057743e-04,\n",
       "       -1.24293668e-02, -1.92204099e-02, -2.40593366e-02, -6.31403551e-02,\n",
       "       -3.30813378e-02, -3.49219516e-02, -3.11798379e-02, -3.00267227e-02,\n",
       "        1.96591597e-02,  2.52263248e-02, -5.07830828e-02, -1.14706997e-03,\n",
       "        2.01241374e-02,  4.65787854e-03, -5.93039840e-02, -4.65122005e-03,\n",
       "       -8.48048273e-03,  4.68602479e-02,  3.93591933e-02, -1.03490110e-02,\n",
       "       -5.28946221e-02, -2.21583862e-02,  5.87916821e-02,  1.35660050e-02,\n",
       "       -2.58338638e-02,  3.97775285e-02,  2.08452754e-02, -3.12815700e-03,\n",
       "        2.51442520e-03,  3.07057481e-02,  2.13596597e-02,  3.38572189e-02,\n",
       "        1.25005361e-04,  4.54182327e-02,  2.01302003e-02,  1.67836249e-02,\n",
       "       -3.57743911e-02, -3.75070833e-02, -1.26069728e-02, -3.22422124e-02,\n",
       "       -2.17468087e-02, -9.42739025e-02,  2.50760876e-02,  3.39327268e-02,\n",
       "        1.54863130e-02,  1.38102844e-02,  5.38376123e-02, -1.87368449e-02,\n",
       "       -5.03685733e-04,  1.75306536e-02,  1.00014418e-01,  1.88909825e-02,\n",
       "       -3.84905189e-02, -7.35831400e-03, -3.81588973e-02,  3.50038558e-02,\n",
       "        2.71761306e-02, -5.15075698e-02,  2.46065273e-03, -2.24490240e-02,\n",
       "        2.36112606e-02, -1.94377229e-02,  6.53685347e-05, -2.06357911e-02,\n",
       "       -2.35613547e-02,  1.24544017e-02,  1.25234956e-02,  2.67479625e-02,\n",
       "       -4.81090061e-02,  4.57683615e-02, -3.59554663e-02, -1.49573339e-02,\n",
       "        1.66501123e-02, -2.85327546e-02,  5.34608997e-02, -4.51454930e-02,\n",
       "        1.40857855e-02, -6.96043018e-03, -2.05882378e-02, -4.83145053e-03,\n",
       "       -4.57282271e-03, -9.57470294e-03, -3.43362167e-02,  6.35282556e-03,\n",
       "        4.68185693e-02,  2.64553353e-03, -1.35951824e-02, -6.19897898e-03,\n",
       "       -1.96393654e-02, -5.23132533e-02, -3.20277922e-02, -5.65620251e-02,\n",
       "       -6.73334347e-03,  1.94649249e-02, -8.54820292e-03,  1.87424403e-02,\n",
       "        5.94453607e-03,  3.04590017e-02, -6.92937477e-03,  5.41677698e-02,\n",
       "       -6.12573661e-02, -1.09824119e-02, -2.27335263e-02,  1.21163521e-02,\n",
       "       -5.36305178e-03, -5.54909790e-03, -7.27467053e-03, -8.08165967e-03,\n",
       "       -6.60199896e-02,  1.49068888e-02, -2.77349669e-02, -3.93338278e-02,\n",
       "       -6.46581594e-03, -1.70180053e-02, -3.81782055e-02, -1.03986776e-02,\n",
       "        5.48563199e-03, -1.42742367e-02, -4.27589007e-02,  3.74228843e-02,\n",
       "       -2.42493376e-02, -3.77855375e-02, -4.13970612e-02,  3.95138748e-03,\n",
       "        1.59399770e-02, -9.47802607e-03, -1.93605628e-02, -3.10281944e-02,\n",
       "        9.97766294e-03, -3.10426932e-02,  1.42207993e-02,  2.53202557e-03,\n",
       "        6.58920109e-02, -2.01617479e-02, -2.98793428e-02,  1.82481781e-02,\n",
       "       -1.09722149e-02, -3.91275026e-02,  1.69755556e-02, -3.23288776e-02,\n",
       "        4.86926213e-02,  6.31054789e-02,  1.21104904e-02, -1.53914066e-02,\n",
       "        2.74784938e-02, -4.54481915e-02,  9.46815871e-03,  5.91288395e-02,\n",
       "        4.09602970e-02, -1.19847860e-02,  4.65529189e-02,  3.58622074e-02],\n",
       "      dtype=float32)"
      ]
     },
     "execution_count": 26,
     "metadata": {},
     "output_type": "execute_result"
    }
   ],
   "source": [
    "embeddings_model.get_vector('ham')"
   ]
  },
  {
   "cell_type": "code",
   "execution_count": 27,
   "metadata": {},
   "outputs": [
    {
     "data": {
      "text/plain": [
       "[('smoked_ham', 0.39625677466392517),\n",
       " ('cooked_ham', 0.3473472595214844),\n",
       " ('canadian_bacon', 0.31826114654541016),\n",
       " ('sliced_ham', 0.28591668605804443),\n",
       " ('corned_beef', 0.2710075378417969),\n",
       " ('boiled_ham', 0.2634613513946533),\n",
       " ('deli_ham', 0.2594316601753235),\n",
       " ('fully_cooked_ham', 0.2330356240272522),\n",
       " ('mortadella', 0.21839934587478638),\n",
       " ('mexican_chorizo', 0.21640340983867645)]"
      ]
     },
     "execution_count": 27,
     "metadata": {},
     "output_type": "execute_result"
    }
   ],
   "source": [
    "embeddings_model.most_similar('ham')"
   ]
  },
  {
   "cell_type": "code",
   "execution_count": 28,
   "metadata": {
    "scrolled": true
   },
   "outputs": [
    {
     "data": {
      "text/plain": [
       "[('granulated_sugar', 0.3818522095680237),\n",
       " ('brown_sugar', 0.3476158380508423),\n",
       " ('white_sugar', 0.28680968284606934),\n",
       " ('light_brown_sugar', 0.225079745054245),\n",
       " ('honey', 0.2248568832874298),\n",
       " ('water', 0.2237204909324646),\n",
       " ('powdered_sugar', 0.1913958191871643),\n",
       " ('dark_brown_sugar', 0.17984548211097717),\n",
       " ('salt', 0.17680180072784424),\n",
       " ('garnish', 0.1673145890235901)]"
      ]
     },
     "execution_count": 28,
     "metadata": {},
     "output_type": "execute_result"
    }
   ],
   "source": [
    "embeddings_model.most_similar('sugar')"
   ]
  },
  {
   "cell_type": "code",
   "execution_count": null,
   "metadata": {},
   "outputs": [],
   "source": []
  },
  {
   "cell_type": "code",
   "execution_count": 29,
   "metadata": {},
   "outputs": [
    {
     "data": {
      "text/plain": [
       "[('unsalted_butter', 0.27746471762657166)]"
      ]
     },
     "execution_count": 29,
     "metadata": {},
     "output_type": "execute_result"
    }
   ],
   "source": [
    "embeddings_model.most_similar(positive=[\"butter\"], negative=[\"salt\"], topn=1)"
   ]
  },
  {
   "cell_type": "code",
   "execution_count": 30,
   "metadata": {},
   "outputs": [
    {
     "data": {
      "text/plain": [
       "[('ground_pork', 0.28692853450775146)]"
      ]
     },
     "execution_count": 30,
     "metadata": {},
     "output_type": "execute_result"
    }
   ],
   "source": [
    "embeddings_model.most_similar(positive=[\"ground_beef\", \"pork\"], negative=[\"beef\"], topn=1)"
   ]
  },
  {
   "cell_type": "code",
   "execution_count": 31,
   "metadata": {},
   "outputs": [
    {
     "data": {
      "text/plain": [
       "[('dried_sage', 0.24299708008766174)]"
      ]
     },
     "execution_count": 31,
     "metadata": {},
     "output_type": "execute_result"
    }
   ],
   "source": [
    "embeddings_model.most_similar(positive=[\"dried_oregano\", \"sage\"], negative=[\"oregano\"], topn=1)"
   ]
  },
  {
   "cell_type": "code",
   "execution_count": 32,
   "metadata": {},
   "outputs": [
    {
     "data": {
      "text/plain": [
       "[('melted_butter', 0.29524338245391846)]"
      ]
     },
     "execution_count": 32,
     "metadata": {},
     "output_type": "execute_result"
    }
   ],
   "source": [
    "embeddings_model.most_similar(positive=[\"hot_water\", \"butter\"], negative=[\"water\"], topn=1)"
   ]
  },
  {
   "cell_type": "code",
   "execution_count": 33,
   "metadata": {},
   "outputs": [
    {
     "data": {
      "text/plain": [
       "[('boiling_water', 0.2949616014957428)]"
      ]
     },
     "execution_count": 33,
     "metadata": {},
     "output_type": "execute_result"
    }
   ],
   "source": [
    "embeddings_model.most_similar(positive=[\"hot_water\", \"hot_water\"], negative=[\"water\"], topn=1)"
   ]
  },
  {
   "cell_type": "code",
   "execution_count": 34,
   "metadata": {},
   "outputs": [
    {
     "data": {
      "text/plain": [
       "[('evaporated_milk', 0.308748334646225)]"
      ]
     },
     "execution_count": 34,
     "metadata": {},
     "output_type": "execute_result"
    }
   ],
   "source": [
    "embeddings_model.most_similar(positive=[\"hot_water\", \"milk\"], negative=[\"water\"], topn=1)"
   ]
  },
  {
   "cell_type": "code",
   "execution_count": 78,
   "metadata": {},
   "outputs": [
    {
     "ename": "KeyError",
     "evalue": "\"word 'coffee_granuals' not in vocabulary\"",
     "output_type": "error",
     "traceback": [
      "\u001b[0;31m---------------------------------------------------------------------------\u001b[0m",
      "\u001b[0;31mKeyError\u001b[0m                                  Traceback (most recent call last)",
      "\u001b[0;32m<ipython-input-78-9380304f2fc4>\u001b[0m in \u001b[0;36m<module>\u001b[0;34m\u001b[0m\n\u001b[0;32m----> 1\u001b[0;31m \u001b[0membeddings_model\u001b[0m\u001b[0;34m.\u001b[0m\u001b[0mmost_similar\u001b[0m\u001b[0;34m(\u001b[0m\u001b[0mpositive\u001b[0m\u001b[0;34m=\u001b[0m\u001b[0;34m[\u001b[0m\u001b[0;34m\"hot_water\"\u001b[0m\u001b[0;34m,\u001b[0m \u001b[0;34m\"coffee_granuals\"\u001b[0m\u001b[0;34m]\u001b[0m\u001b[0;34m,\u001b[0m \u001b[0mnegative\u001b[0m\u001b[0;34m=\u001b[0m\u001b[0;34m[\u001b[0m\u001b[0;34m\"water\"\u001b[0m\u001b[0;34m]\u001b[0m\u001b[0;34m,\u001b[0m \u001b[0mtopn\u001b[0m\u001b[0;34m=\u001b[0m\u001b[0;36m1\u001b[0m\u001b[0;34m)\u001b[0m\u001b[0;34m\u001b[0m\u001b[0;34m\u001b[0m\u001b[0m\n\u001b[0m",
      "\u001b[0;32m~/anaconda3/lib/python3.8/site-packages/gensim/models/keyedvectors.py\u001b[0m in \u001b[0;36mmost_similar\u001b[0;34m(self, positive, negative, topn, restrict_vocab, indexer)\u001b[0m\n\u001b[1;32m    551\u001b[0m                 \u001b[0mmean\u001b[0m\u001b[0;34m.\u001b[0m\u001b[0mappend\u001b[0m\u001b[0;34m(\u001b[0m\u001b[0mweight\u001b[0m \u001b[0;34m*\u001b[0m \u001b[0mword\u001b[0m\u001b[0;34m)\u001b[0m\u001b[0;34m\u001b[0m\u001b[0;34m\u001b[0m\u001b[0m\n\u001b[1;32m    552\u001b[0m             \u001b[0;32melse\u001b[0m\u001b[0;34m:\u001b[0m\u001b[0;34m\u001b[0m\u001b[0;34m\u001b[0m\u001b[0m\n\u001b[0;32m--> 553\u001b[0;31m                 \u001b[0mmean\u001b[0m\u001b[0;34m.\u001b[0m\u001b[0mappend\u001b[0m\u001b[0;34m(\u001b[0m\u001b[0mweight\u001b[0m \u001b[0;34m*\u001b[0m \u001b[0mself\u001b[0m\u001b[0;34m.\u001b[0m\u001b[0mword_vec\u001b[0m\u001b[0;34m(\u001b[0m\u001b[0mword\u001b[0m\u001b[0;34m,\u001b[0m \u001b[0muse_norm\u001b[0m\u001b[0;34m=\u001b[0m\u001b[0;32mTrue\u001b[0m\u001b[0;34m)\u001b[0m\u001b[0;34m)\u001b[0m\u001b[0;34m\u001b[0m\u001b[0;34m\u001b[0m\u001b[0m\n\u001b[0m\u001b[1;32m    554\u001b[0m                 \u001b[0;32mif\u001b[0m \u001b[0mword\u001b[0m \u001b[0;32min\u001b[0m \u001b[0mself\u001b[0m\u001b[0;34m.\u001b[0m\u001b[0mvocab\u001b[0m\u001b[0;34m:\u001b[0m\u001b[0;34m\u001b[0m\u001b[0;34m\u001b[0m\u001b[0m\n\u001b[1;32m    555\u001b[0m                     \u001b[0mall_words\u001b[0m\u001b[0;34m.\u001b[0m\u001b[0madd\u001b[0m\u001b[0;34m(\u001b[0m\u001b[0mself\u001b[0m\u001b[0;34m.\u001b[0m\u001b[0mvocab\u001b[0m\u001b[0;34m[\u001b[0m\u001b[0mword\u001b[0m\u001b[0;34m]\u001b[0m\u001b[0;34m.\u001b[0m\u001b[0mindex\u001b[0m\u001b[0;34m)\u001b[0m\u001b[0;34m\u001b[0m\u001b[0;34m\u001b[0m\u001b[0m\n",
      "\u001b[0;32m~/anaconda3/lib/python3.8/site-packages/gensim/models/keyedvectors.py\u001b[0m in \u001b[0;36mword_vec\u001b[0;34m(self, word, use_norm)\u001b[0m\n\u001b[1;32m    466\u001b[0m             \u001b[0;32mreturn\u001b[0m \u001b[0mresult\u001b[0m\u001b[0;34m\u001b[0m\u001b[0;34m\u001b[0m\u001b[0m\n\u001b[1;32m    467\u001b[0m         \u001b[0;32melse\u001b[0m\u001b[0;34m:\u001b[0m\u001b[0;34m\u001b[0m\u001b[0;34m\u001b[0m\u001b[0m\n\u001b[0;32m--> 468\u001b[0;31m             \u001b[0;32mraise\u001b[0m \u001b[0mKeyError\u001b[0m\u001b[0;34m(\u001b[0m\u001b[0;34m\"word '%s' not in vocabulary\"\u001b[0m \u001b[0;34m%\u001b[0m \u001b[0mword\u001b[0m\u001b[0;34m)\u001b[0m\u001b[0;34m\u001b[0m\u001b[0;34m\u001b[0m\u001b[0m\n\u001b[0m\u001b[1;32m    469\u001b[0m \u001b[0;34m\u001b[0m\u001b[0m\n\u001b[1;32m    470\u001b[0m     \u001b[0;32mdef\u001b[0m \u001b[0mget_vector\u001b[0m\u001b[0;34m(\u001b[0m\u001b[0mself\u001b[0m\u001b[0;34m,\u001b[0m \u001b[0mword\u001b[0m\u001b[0;34m)\u001b[0m\u001b[0;34m:\u001b[0m\u001b[0;34m\u001b[0m\u001b[0;34m\u001b[0m\u001b[0m\n",
      "\u001b[0;31mKeyError\u001b[0m: \"word 'coffee_granuals' not in vocabulary\""
     ]
    }
   ],
   "source": [
    "embeddings_model.most_similar(positive=[\"hot_water\"], negative=[\"water\"], topn=1)"
   ]
  },
  {
   "cell_type": "code",
   "execution_count": null,
   "metadata": {},
   "outputs": [],
   "source": []
  },
  {
   "cell_type": "code",
   "execution_count": 35,
   "metadata": {},
   "outputs": [
    {
     "data": {
      "text/plain": [
       "[('himalayan_salt', 0.29187968373298645)]"
      ]
     },
     "execution_count": 35,
     "metadata": {},
     "output_type": "execute_result"
    }
   ],
   "source": [
    "embeddings_model.most_similar(positive=[\"hot_water\", \"bread\"], negative=[\"water\"], topn=1)"
   ]
  },
  {
   "cell_type": "code",
   "execution_count": 43,
   "metadata": {},
   "outputs": [
    {
     "data": {
      "text/plain": [
       "[('potatoes', 0.24644336104393005)]"
      ]
     },
     "execution_count": 43,
     "metadata": {},
     "output_type": "execute_result"
    }
   ],
   "source": [
    "embeddings_model.most_similar(positive=[\"carrots\", \"potato\"], negative=[\"carrot\"], topn=1)"
   ]
  },
  {
   "cell_type": "code",
   "execution_count": 44,
   "metadata": {},
   "outputs": [
    {
     "data": {
      "text/plain": [
       "[('onions', 0.2654738426208496)]"
      ]
     },
     "execution_count": 44,
     "metadata": {},
     "output_type": "execute_result"
    }
   ],
   "source": [
    "embeddings_model.most_similar(positive=[\"carrots\", \"onion\"], negative=[\"carrot\"], topn=1)"
   ]
  },
  {
   "cell_type": "code",
   "execution_count": 64,
   "metadata": {},
   "outputs": [
    {
     "data": {
      "text/plain": [
       "[('tomatoes', 0.2559482455253601)]"
      ]
     },
     "execution_count": 64,
     "metadata": {},
     "output_type": "execute_result"
    }
   ],
   "source": [
    "embeddings_model.most_similar(positive=[\"carrots\", \"tomato\"], negative=[\"carrot\"], topn=1)"
   ]
  },
  {
   "cell_type": "code",
   "execution_count": 66,
   "metadata": {},
   "outputs": [
    {
     "data": {
      "text/plain": [
       "[('garlic_cloves', 0.3597503900527954)]"
      ]
     },
     "execution_count": 66,
     "metadata": {},
     "output_type": "execute_result"
    }
   ],
   "source": [
    "embeddings_model.most_similar(positive=[\"carrots\", \"garlic\"], negative=[\"carrot\"], topn=1)"
   ]
  },
  {
   "cell_type": "code",
   "execution_count": 67,
   "metadata": {},
   "outputs": [
    {
     "data": {
      "text/plain": [
       "[('eggs', 0.3555490970611572)]"
      ]
     },
     "execution_count": 67,
     "metadata": {},
     "output_type": "execute_result"
    }
   ],
   "source": [
    "embeddings_model.most_similar(positive=[\"carrots\", \"egg\"], negative=[\"carrot\"], topn=1)"
   ]
  },
  {
   "cell_type": "code",
   "execution_count": 68,
   "metadata": {},
   "outputs": [
    {
     "data": {
      "text/plain": [
       "[('granny_smith_apples', 0.26275596022605896)]"
      ]
     },
     "execution_count": 68,
     "metadata": {},
     "output_type": "execute_result"
    }
   ],
   "source": [
    "embeddings_model.most_similar(positive=[\"carrots\", \"apple\"], negative=[\"carrot\"], topn=1)"
   ]
  },
  {
   "cell_type": "code",
   "execution_count": 69,
   "metadata": {},
   "outputs": [
    {
     "data": {
      "text/plain": [
       "[('basil_leaves', 0.23774810135364532)]"
      ]
     },
     "execution_count": 69,
     "metadata": {},
     "output_type": "execute_result"
    }
   ],
   "source": [
    "embeddings_model.most_similar(positive=[\"carrots\", \"basil\"], negative=[\"carrot\"], topn=1)"
   ]
  },
  {
   "cell_type": "code",
   "execution_count": 71,
   "metadata": {},
   "outputs": [
    {
     "data": {
      "text/plain": [
       "[('ice_cubes', 0.22948268055915833)]"
      ]
     },
     "execution_count": 71,
     "metadata": {},
     "output_type": "execute_result"
    }
   ],
   "source": [
    "embeddings_model.most_similar(positive=[\"carrots\", \"ice\"], negative=[\"carrot\"], topn=1)"
   ]
  },
  {
   "cell_type": "code",
   "execution_count": 72,
   "metadata": {},
   "outputs": [
    {
     "data": {
      "text/plain": [
       "[('cooked_bacon', 0.2114761620759964)]"
      ]
     },
     "execution_count": 72,
     "metadata": {},
     "output_type": "execute_result"
    }
   ],
   "source": [
    "embeddings_model.most_similar(positive=[\"carrots\", \"bacon\"], negative=[\"carrot\"], topn=1)"
   ]
  },
  {
   "cell_type": "code",
   "execution_count": 83,
   "metadata": {},
   "outputs": [
    {
     "data": {
      "text/plain": [
       "[('venison', 0.1553337275981903)]"
      ]
     },
     "execution_count": 83,
     "metadata": {},
     "output_type": "execute_result"
    }
   ],
   "source": [
    "embeddings_model.most_similar(positive=[\"carrots\", \"chicken\"], negative=[\"carrot\"], topn=1)"
   ]
  },
  {
   "cell_type": "code",
   "execution_count": null,
   "metadata": {},
   "outputs": [],
   "source": []
  },
  {
   "cell_type": "code",
   "execution_count": 63,
   "metadata": {},
   "outputs": [
    {
     "data": {
      "text/plain": [
       "['tomatoes',\n",
       " 'garlic_cloves',\n",
       " 'leaves',\n",
       " 'potatoes',\n",
       " 'cloves',\n",
       " 'pepper_flakes',\n",
       " 'red_pepper_flakes',\n",
       " 'noodles',\n",
       " 'egg_whites',\n",
       " 'chives',\n",
       " 'olives',\n",
       " 'apples',\n",
       " 'strawberries',\n",
       " 'bay_leaves',\n",
       " 'basil_leaves',\n",
       " 'chilies',\n",
       " 'cranberries',\n",
       " 'blueberries',\n",
       " 'chicken_breast_halves',\n",
       " 'parsley_leaves',\n",
       " 'ground_cloves',\n",
       " 'molasses',\n",
       " 'cherry_tomatoes',\n",
       " 'black_olives',\n",
       " 'green_chilies',\n",
       " 'raspberries',\n",
       " 'plum_tomatoes',\n",
       " 'chiles',\n",
       " 'sweet_potatoes',\n",
       " 'cherries',\n",
       " 'cilantro_leaves',\n",
       " 'mint_leaves',\n",
       " 'thyme_leaves',\n",
       " 'oranges',\n",
       " 'dried_cranberries',\n",
       " 'vegetables',\n",
       " 'peaches',\n",
       " 'limes',\n",
       " 'cookies',\n",
       " 'spinach_leaves',\n",
       " 'ice_cubes',\n",
       " 'medium_tomatoes',\n",
       " 'egg_noodles',\n",
       " 'preserves',\n",
       " 'dates',\n",
       " 'lettuce_leaves',\n",
       " 'boneless_skinless_chicken_breast_halves',\n",
       " 'roma_tomatoes',\n",
       " 'medium_potatoes',\n",
       " 'grapes',\n",
       " 'russet_potatoes',\n",
       " 'boneless_chicken_breast_halves',\n",
       " 'green_olives',\n",
       " 'sundried_tomatoes',\n",
       " 'gold_potatoes',\n",
       " 'grape_tomatoes',\n",
       " 'pecan_halves',\n",
       " 'yukon_gold_potatoes',\n",
       " 'oregano_leaves',\n",
       " 'canned_tomatoes',\n",
       " 'stewed_tomatoes',\n",
       " 'baking_potatoes',\n",
       " 'blackberries',\n",
       " 'radishes',\n",
       " 'berries',\n",
       " 'granny_smith_apples',\n",
       " 'parsley_flakes',\n",
       " 'new_potatoes',\n",
       " 'mixed_vegetables',\n",
       " 'lasagna_noodles',\n",
       " 'sausages',\n",
       " 'kalamata_olives',\n",
       " 'lime_wedges',\n",
       " 'maraschino_cherries',\n",
       " 'baby_spinach_leaves',\n",
       " 'sprinkles',\n",
       " 'pickles',\n",
       " 'mashed_potatoes',\n",
       " 'sage_leaves',\n",
       " 'onion_flakes',\n",
       " 'rosemary_leaves',\n",
       " 'green_chiles',\n",
       " 'jalapeno_chilies',\n",
       " 'mandarin_oranges',\n",
       " 'diced_tomatoes',\n",
       " 'apricot_preserves',\n",
       " 'spices',\n",
       " 'sliced_black_olives',\n",
       " 'crumbles',\n",
       " 'corn_flakes',\n",
       " 'dried_cherries',\n",
       " 'prunes',\n",
       " 'rice_noodles',\n",
       " 'frozen_mixed_vegetables',\n",
       " 'bouillon_granules',\n",
       " 'artichokes',\n",
       " 'ripe_olives',\n",
       " 'tarragon_leaves',\n",
       " 'chili_flakes',\n",
       " 'peeled_tomatoes',\n",
       " 'mangoes',\n",
       " 'curry_leaves',\n",
       " 'pitted_kalamata_olives',\n",
       " 'frozen_strawberries',\n",
       " 'bacon_slices',\n",
       " 'hot_red_pepper_flakes',\n",
       " 'dried_onion_flakes',\n",
       " 'coffee_granules',\n",
       " 'coconut_flakes',\n",
       " 'tart_apples',\n",
       " 'rotel_tomatoes',\n",
       " 'anchovies',\n",
       " 'chili_pepper_flakes',\n",
       " 'frozen_raspberries',\n",
       " 'frozen_cranberries',\n",
       " 'poblano_chiles',\n",
       " 'walnut_halves',\n",
       " 'cheese_slices',\n",
       " 'ramen_noodles',\n",
       " 'dill_pickles',\n",
       " 'italian_parsley_leaves',\n",
       " 'lime_leaves',\n",
       " 'allspice_berries',\n",
       " 'wide_egg_noodles',\n",
       " 'chicken_bouillon_granules',\n",
       " 'frozen_blueberries',\n",
       " 'dried_parsley_flakes',\n",
       " 'celery_leaves',\n",
       " 'nectarines',\n",
       " 'lemon_slices',\n",
       " 'kaffir_lime_leaves',\n",
       " 'boiling_potatoes',\n",
       " 'bread_slices',\n",
       " 'dried_tomatoes',\n",
       " 'bonito_flakes',\n",
       " 'loaves',\n",
       " 'green_tomatoes',\n",
       " 'pitted_black_olives',\n",
       " 'sweet_cherries',\n",
       " 'soba_noodles',\n",
       " 'raspberry_preserves',\n",
       " 'sun_dried_tomatoes',\n",
       " 'large_garlic_cloves',\n",
       " 'italian_plum_tomatoes',\n",
       " 'pitted_prunes',\n",
       " 'navel_oranges',\n",
       " 'shiso_leaves',\n",
       " 'wafer_cookies',\n",
       " 'cooking_apples',\n",
       " 'cakes',\n",
       " 'candy_sprinkles',\n",
       " 'dark_molasses',\n",
       " 'chow_mein_noodles',\n",
       " 'feta_cheese_crumbles',\n",
       " 'green_apples',\n",
       " 'idaho_potatoes',\n",
       " 'onion_slices',\n",
       " 'chopped_tomatoes',\n",
       " 'sandwich_cookies',\n",
       " 'crushed_red_pepper_flakes',\n",
       " 'beef_bouillon_granules',\n",
       " 'crushed_tomatoes',\n",
       " 'candy_canes',\n",
       " 'romaine_lettuce_leaves',\n",
       " 'golden_delicious_apples',\n",
       " 'sardines',\n",
       " 'lime_slices',\n",
       " 'juniper_berries',\n",
       " 'dried_chives',\n",
       " 'chinese_egg_noodles',\n",
       " 'pitted_green_olives',\n",
       " 'fingerling_potatoes',\n",
       " 'peach_slices',\n",
       " 'roasted_tomatoes',\n",
       " 'sliced_apples',\n",
       " 'sliced_tomatoes',\n",
       " 'chillies',\n",
       " 'heirloom_tomatoes',\n",
       " 'candied_cherries',\n",
       " 'pepperoni_slices',\n",
       " 'cheeses',\n",
       " 'orange_slices',\n",
       " 'sandwiches',\n",
       " 'gingersnap_cookies',\n",
       " 'gala_apples',\n",
       " 'pitted_cherries',\n",
       " 'veggies',\n",
       " 'strawberry_preserves',\n",
       " 'pineapple_slices',\n",
       " 'italian_tomatoes',\n",
       " 'potato_flakes',\n",
       " 'large_egg_whites',\n",
       " 'apricot_halves',\n",
       " 'grape_leaves',\n",
       " 'chocolate_sprinkles',\n",
       " 'sour_cherries',\n",
       " 'marjoram_leaves',\n",
       " 'peach_preserves',\n",
       " 'light_molasses',\n",
       " 'chocolate_sandwich_cookies',\n",
       " 'chinese_chives',\n",
       " 'frozen_vegetables',\n",
       " 'brownies',\n",
       " 'shortbread_cookies',\n",
       " 'frozen_mixed_berries',\n",
       " 'cubed_potatoes',\n",
       " 'cooked_potatoes',\n",
       " 'wheat_berries',\n",
       " 'tea_leaves',\n",
       " 'seedless_red_grapes',\n",
       " 'dried_blueberries',\n",
       " 'serrano_chilies',\n",
       " 'chocolate_wafer_cookies',\n",
       " 'red_apples',\n",
       " 'beefsteak_tomatoes',\n",
       " 'fresh_basil_leaves',\n",
       " 'sweetened_dried_cranberries',\n",
       " 'baking_apples',\n",
       " 'pitted_ripe_olives',\n",
       " 'crepes',\n",
       " 'sweet_pickles',\n",
       " 'kale_leaves',\n",
       " 'dried_tarragon_leaves',\n",
       " 'clementines',\n",
       " 'tart_cherries',\n",
       " 'pomegranate_molasses',\n",
       " 'pear_tomatoes',\n",
       " 'saltines',\n",
       " 'baby_potatoes',\n",
       " 'fenugreek_leaves',\n",
       " 'bing_cherries',\n",
       " 'tentacles',\n",
       " 'cupcakes',\n",
       " 'glace_cherries',\n",
       " 'red_delicious_apples',\n",
       " 'boysenberries',\n",
       " 'sweetened_coconut_flakes',\n",
       " 'waxy_potatoes',\n",
       " 'truffles',\n",
       " 'banana_leaves',\n",
       " 'garlic_chives',\n",
       " 'frozen_peaches',\n",
       " 'chinese_noodles',\n",
       " 'sliced_olives',\n",
       " 'nutritional_yeast_flakes',\n",
       " 'cherry_preserves',\n",
       " 'medium_egg_noodles',\n",
       " 'cones',\n",
       " 'dried_chiles',\n",
       " 'unsweetened_coconut_flakes',\n",
       " 'pickling_spices',\n",
       " 'cabbage_leaves',\n",
       " 'calories',\n",
       " 'dried_dates',\n",
       " 'dried_tart_cherries',\n",
       " 'fresh_chives',\n",
       " 'instant_chicken_bouillon_granules',\n",
       " 'chicken_stock_cubes',\n",
       " 'sun-dried_tomatoes',\n",
       " 'unsulfured_molasses',\n",
       " 'red_radishes',\n",
       " 'peach_halves',\n",
       " 'duck_breast_halves',\n",
       " 'celery_flakes',\n",
       " 'baby_artichokes',\n",
       " 'sliced_green_olives',\n",
       " 'bread_and_butter_pickles',\n",
       " 'cockles',\n",
       " 'cereal_flakes',\n",
       " 'dried_rice_noodles',\n",
       " 'fresh_tomatoes',\n",
       " 'french_fries',\n",
       " 'pork_sausages',\n",
       " 'fish_bones',\n",
       " 'frozen_cherries',\n",
       " 'spanish_olives',\n",
       " 'mcintosh_apples',\n",
       " 'red_raspberries',\n",
       " 'pitted_olives',\n",
       " 'unsulphured_molasses',\n",
       " 'fuji_apples',\n",
       " 'chicken_pieces',\n",
       " 'pineapple_preserves',\n",
       " 'garlic_granules',\n",
       " 'radicchio_leaves',\n",
       " 'hot_italian_sausages',\n",
       " 'instant_potato_flakes',\n",
       " 'cheese_cubes',\n",
       " 'dried_sweetened_cranberries',\n",
       " 'sweet_basil_leaves',\n",
       " 'dried_apples',\n",
       " 'bran_flakes',\n",
       " 'lady_apples',\n",
       " 'root_vegetables',\n",
       " 'gooseberries',\n",
       " 'guajillo_chiles',\n",
       " 'peeled_plum_tomatoes',\n",
       " 'beef_stock_cubes',\n",
       " 'frozen_potatoes',\n",
       " 'san_marzano_tomatoes',\n",
       " 'calamata_olives',\n",
       " 'pasilla_chiles',\n",
       " 'vine_ripened_tomatoes',\n",
       " 'sugar_cubes',\n",
       " 'pimento_stuffed_olives',\n",
       " 'sea_salt_flakes',\n",
       " 'pineapples',\n",
       " 'white_bread_slices',\n",
       " 'turkish_bay_leaves',\n",
       " 'rice_stick_noodles',\n",
       " 'chocolates',\n",
       " 'frozen_blackberries',\n",
       " 'chopped_fresh_chives',\n",
       " 'chayotes',\n",
       " 'green_tea_leaves',\n",
       " 'salad_leaves',\n",
       " 'fresh_thyme_leaves',\n",
       " 'mulberries',\n",
       " 'fine_egg_noodles',\n",
       " 'poblano_chilies',\n",
       " 'watercress_leaves']"
      ]
     },
     "execution_count": 63,
     "metadata": {},
     "output_type": "execute_result"
    }
   ],
   "source": [
    "[i for i in ingredients if i.endswith('es')]"
   ]
  },
  {
   "cell_type": "code",
   "execution_count": 62,
   "metadata": {},
   "outputs": [
    {
     "data": {
      "text/plain": [
       "[('frozen_blueberries', 0.22762975096702576)]"
      ]
     },
     "execution_count": 62,
     "metadata": {},
     "output_type": "execute_result"
    }
   ],
   "source": [
    "embeddings_model.most_similar(positive=[\"blueberries\", \"strawberry\"], negative=[\"blueberry\"], topn=1)"
   ]
  },
  {
   "cell_type": "code",
   "execution_count": 23,
   "metadata": {},
   "outputs": [],
   "source": [
    "# from tensorboardX import SummaryWriter\n",
    "# writer = SummaryWriter()\n",
    "# writer.add_embedding(embeddings, metadata=ingredients)"
   ]
  },
  {
   "cell_type": "code",
   "execution_count": 92,
   "metadata": {},
   "outputs": [
    {
     "data": {
      "text/plain": [
       "[]"
      ]
     },
     "execution_count": 92,
     "metadata": {},
     "output_type": "execute_result"
    }
   ],
   "source": [
    "import re\n",
    "re.findall('\\d', 'a')"
   ]
  },
  {
   "cell_type": "code",
   "execution_count": null,
   "metadata": {},
   "outputs": [],
   "source": []
  }
 ],
 "metadata": {
  "kernelspec": {
   "display_name": "Python 3",
   "language": "python",
   "name": "python3"
  },
  "language_info": {
   "codemirror_mode": {
    "name": "ipython",
    "version": 3
   },
   "file_extension": ".py",
   "mimetype": "text/x-python",
   "name": "python",
   "nbconvert_exporter": "python",
   "pygments_lexer": "ipython3",
   "version": "3.8.3"
  }
 },
 "nbformat": 4,
 "nbformat_minor": 4
}
