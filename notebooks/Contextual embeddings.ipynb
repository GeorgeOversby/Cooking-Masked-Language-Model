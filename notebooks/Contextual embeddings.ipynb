{
 "cells": [
  {
   "cell_type": "code",
   "execution_count": 1,
   "metadata": {},
   "outputs": [
    {
     "name": "stderr",
     "output_type": "stream",
     "text": [
      "Some weights of RobertaForMaskedLM were not initialized from the model checkpoint at ../artifacts and are newly initialized: ['roberta.pooler.dense.weight', 'roberta.pooler.dense.bias']\n",
      "You should probably TRAIN this model on a down-stream task to be able to use it for predictions and inference.\n"
     ]
    }
   ],
   "source": [
    "import sys\n",
    "from pathlib import Path\n",
    "sys.path.append(str(Path(sys.path[0]).parent))\n",
    "from src.ingredient_tokenizer import load_tokenizer\n",
    "from transformers import pipeline\n",
    "from transformers import RobertaForMaskedLM\n",
    "import numpy as np\n",
    "from sklearn.cluster import KMeans\n",
    "tokenizer = load_tokenizer('../artifacts')\n",
    "\n",
    "model = RobertaForMaskedLM.from_pretrained('../artifacts')"
   ]
  },
  {
   "cell_type": "code",
   "execution_count": 2,
   "metadata": {},
   "outputs": [],
   "source": [
    "def get_contextual_embedding(ingredient, recipe):\n",
    "    ingredients = recipe.split(' ')\n",
    "    tokenized_input = tokenizer(' '.join(ingredients), return_tensors='pt')['input_ids']\n",
    "    vector = model(tokenized_input)[0][0, ingredients.index(ingredient)+1, :]\n",
    "    return vector"
   ]
  },
  {
   "cell_type": "code",
   "execution_count": 114,
   "metadata": {},
   "outputs": [
    {
     "data": {
      "text/plain": [
       "tensor([ -2.1509, -10.6516,  -0.6362,  ...,  -5.5660,  -2.6968,  -3.1077],\n",
       "       grad_fn=<SliceBackward>)"
      ]
     },
     "execution_count": 114,
     "metadata": {},
     "output_type": "execute_result"
    }
   ],
   "source": [
    "get_contextual_embedding('sugar', recipe='flour salt vanilla_extract unsalted_butter cold_water sugar egg_yolk')"
   ]
  },
  {
   "cell_type": "code",
   "execution_count": 116,
   "metadata": {},
   "outputs": [],
   "source": [
    "vectors = []\n",
    "recipes = []\n",
    "with open('../data/processed/recipes_val.txt') as f:\n",
    "    for recipe in f.readlines():\n",
    "        if ' sugar ' in recipe:\n",
    "            vector = get_contextual_embedding('sugar', recipe)\n",
    "            vectors.append(vector.detach().numpy())\n",
    "            recipes.append(recipe)\n",
    "        \n",
    "        if len(vectors) > 500:\n",
    "            break"
   ]
  },
  {
   "cell_type": "code",
   "execution_count": 85,
   "metadata": {},
   "outputs": [],
   "source": []
  },
  {
   "cell_type": "code",
   "execution_count": 118,
   "metadata": {},
   "outputs": [],
   "source": [
    "kmeans = KMeans(n_clusters=2, random_state=0).fit(vectors)\n",
    "clusters = kmeans.predict(vectors)"
   ]
  },
  {
   "cell_type": "code",
   "execution_count": 122,
   "metadata": {},
   "outputs": [
    {
     "data": {
      "text/plain": [
       "array([['flour salt vanilla_extract unsalted_butter cold_water sugar egg_yolk\\n'],\n",
       "       ['butter cream_cheese flour milk vanilla_extract margarine cherry_pie_filling cold_water cocoa sugar egg\\n'],\n",
       "       ['egg_yolks eggs salt milk cream sugar ground_cinnamon\\n'],\n",
       "       ['eggs flour salt milk zest unsalted_butter lemons sugar lemon_juice baking_powder\\n'],\n",
       "       ['vodka sugar goose lemon_juice triple_sec\\n'],\n",
       "       ['butter cooked_bacon eggs flour salt vanilla pecans unsweetened_cocoa_powder sugar bittersweet_chocolate\\n'],\n",
       "       ['cranberries syrup jello cream_cheese celery pineapple raspberry water grapes marshmallow_cream sugar relish heavy_whipping_cream dressing\\n'],\n",
       "       ['flour salt milk vanilla_extract unsalted_butter grated_nutmeg sugar active_dry_yeast egg_yolk\\n'],\n",
       "       ['butter nuts nutmeg flour salt eggs cinnamon water sugar cloves raisins pumpkin baking_soda\\n'],\n",
       "       ['butter nuts flour salt vanilla almond_extract sugar coconut egg\\n']],\n",
       "      dtype='<U309')"
      ]
     },
     "execution_count": 122,
     "metadata": {},
     "output_type": "execute_result"
    }
   ],
   "source": [
    "np.array(recipes)[np.argwhere(clusters == 0)][:10]"
   ]
  },
  {
   "cell_type": "code",
   "execution_count": 123,
   "metadata": {},
   "outputs": [
    {
     "data": {
      "text/plain": [
       "array([['green_onions chicken_broth water white_wine_vinegar wild_rice vegetable_oil sugar curry_powder garlic_minced scallions shrimp\\n'],\n",
       "       ['salt onion garlic_cloves ancho pepper water bacon_grease sugar chili_powder tomatoes\\n'],\n",
       "       ['salt tomato_paste pizza_sauce pepper sugar spaghetti\\n'],\n",
       "       ['baking_soda jalapenos eggs salt buttermilk flour garlic_cloves honey sweet_onion egg_white corn_kernels sugar lime_juice chili_powder baking_powder frozen_corn yellow_cornmeal\\n'],\n",
       "       ['parsley salt olive_oil pepper dijon_mustard vegetable_oil red_wine_vinegar sugar shallots\\n'],\n",
       "       ['chili_oil garnish ginger eggs scallions black_vinegar ground_black_pepper cornstarch toasted_sesame_oil mushrooms soy_sauce bamboo_shoots sugar vegetable_oil firm_tofu garlic_minced vegetable_stock\\n'],\n",
       "       ['salt cooking_spray avocado chipotle_chile_powder corn_tortillas tuna lime_wedges sour_cream sugar cilantro_leaves chili_powder jalapeno sliced_onion ground_cumin\\n'],\n",
       "       ['bread_flour salt grated_parmesan_cheese black_pepper yeast cracked_wheat sugar wholewheat_flour artichoke_hearts hot_water\\n'],\n",
       "       ['salt bacon dry_mustard mushrooms oil poppy_seed white_vinegar sugar swiss_cheese red_onion spinach\\n'],\n",
       "       ['paprika garnish salt light_mayonnaise dill_pickles eggs pickle_juice pepper mustard white_vinegar dill_weed garlic_powder sugar parsley_flakes\\n']],\n",
       "      dtype='<U309')"
      ]
     },
     "execution_count": 123,
     "metadata": {},
     "output_type": "execute_result"
    }
   ],
   "source": [
    "np.array(recipes)[np.argwhere(clusters == 1)][:10]"
   ]
  },
  {
   "cell_type": "code",
   "execution_count": 81,
   "metadata": {},
   "outputs": [],
   "source": []
  },
  {
   "cell_type": "markdown",
   "metadata": {},
   "source": [
    "# Transfer learning"
   ]
  },
  {
   "cell_type": "markdown",
   "metadata": {},
   "source": [
    "https://huggingface.co/transformers/task_summary.html"
   ]
  },
  {
   "cell_type": "code",
   "execution_count": 4,
   "metadata": {},
   "outputs": [],
   "source": [
    "nlp = pipeline(\"question-answering\")"
   ]
  },
  {
   "cell_type": "code",
   "execution_count": 5,
   "metadata": {},
   "outputs": [],
   "source": [
    "context = r\"\"\"\n",
    " This is a presentation about applying a masked language model to recipes. \n",
    " You can try out the model at https://share.streamlit.io/georgeoversby/cooking-masked-language-model/main/webapp.py\n",
    " \"\"\""
   ]
  },
  {
   "cell_type": "code",
   "execution_count": 6,
   "metadata": {},
   "outputs": [
    {
     "name": "stderr",
     "output_type": "stream",
     "text": [
      "/home/george/anaconda3/lib/python3.8/site-packages/transformers/tokenization_utils_base.py:1319: FutureWarning: The `max_len` attribute has been deprecated and will be removed in a future version, use `model_max_length` instead.\n",
      "  warnings.warn(\n"
     ]
    },
    {
     "data": {
      "text/plain": [
       "'applying a masked language model to recipes.'"
      ]
     },
     "execution_count": 6,
     "metadata": {},
     "output_type": "execute_result"
    }
   ],
   "source": [
    "nlp(question='What was this presentation about?', context=context)['answer']"
   ]
  },
  {
   "cell_type": "code",
   "execution_count": 7,
   "metadata": {},
   "outputs": [
    {
     "name": "stderr",
     "output_type": "stream",
     "text": [
      "/home/george/anaconda3/lib/python3.8/site-packages/transformers/tokenization_utils_base.py:1319: FutureWarning: The `max_len` attribute has been deprecated and will be removed in a future version, use `model_max_length` instead.\n",
      "  warnings.warn(\n"
     ]
    },
    {
     "data": {
      "text/plain": [
       "'https://share.streamlit.io/georgeoversby/cooking-masked-language-model/main/webapp.py'"
      ]
     },
     "execution_count": 7,
     "metadata": {},
     "output_type": "execute_result"
    }
   ],
   "source": [
    "nlp(question='Where can I try it out?', context=context)['answer']"
   ]
  }
 ],
 "metadata": {
  "kernelspec": {
   "display_name": "Python 3",
   "language": "python",
   "name": "python3"
  },
  "language_info": {
   "codemirror_mode": {
    "name": "ipython",
    "version": 3
   },
   "file_extension": ".py",
   "mimetype": "text/x-python",
   "name": "python",
   "nbconvert_exporter": "python",
   "pygments_lexer": "ipython3",
   "version": "3.8.3"
  }
 },
 "nbformat": 4,
 "nbformat_minor": 4
}
